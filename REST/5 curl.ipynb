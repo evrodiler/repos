{
 "cells": [
  {
   "cell_type": "code",
   "execution_count": 6,
   "metadata": {},
   "outputs": [
    {
     "name": "stderr",
     "output_type": "stream",
     "text": [
      "  % Total    % Received % Xferd  Average Speed   Time    Time     Time  Current\n",
      "                                 Dload  Upload   Total   Spent    Left  Speed\n",
      "\n",
      "  0     0    0     0    0     0      0      0 --:--:-- --:--:-- --:--:--     0curl: (6) Could not resolve host: 'localhost\n"
     ]
    },
    {
     "data": {
      "text/plain": [
       "{'predictions': [{'label': 'beagle', 'probability': 0.9901360869407654},\n",
       "  {'label': 'Walker_hound', 'probability': 0.002396771451458335},\n",
       "  {'label': 'pot', 'probability': 0.0013951235450804234},\n",
       "  {'label': 'Brittany_spaniel', 'probability': 0.001283277408219874},\n",
       "  {'label': 'bluetick', 'probability': 0.0010894243605434895}],\n",
       " 'success': True}"
      ]
     },
     "execution_count": 6,
     "metadata": {},
     "output_type": "execute_result"
    }
   ],
   "source": [
    "!curl -X POST -F image=@dog.jpg 'localhost:5000/predict'\n",
    "{\n",
    "  \"predictions\": [\n",
    "    {\n",
    "      \"label\": \"beagle\",\n",
    "      \"probability\": 0.9901360869407654\n",
    "    },\n",
    "    {\n",
    "      \"label\": \"Walker_hound\",\n",
    "      \"probability\": 0.002396771451458335\n",
    "    },\n",
    "    {\n",
    "      \"label\": \"pot\",\n",
    "      \"probability\": 0.0013951235450804234\n",
    "    },\n",
    "    {\n",
    "      \"label\": \"Brittany_spaniel\",\n",
    "      \"probability\": 0.001283277408219874\n",
    "    },\n",
    "    {\n",
    "      \"label\": \"bluetick\",\n",
    "      \"probability\": 0.0010894243605434895\n",
    "    }\n",
    "  ],\n",
    "  \"success\": True\n",
    "}"
   ]
  },
  {
   "cell_type": "code",
   "execution_count": null,
   "metadata": {},
   "outputs": [],
   "source": []
  }
 ],
 "metadata": {
  "kernelspec": {
   "display_name": "Python 3",
   "language": "python",
   "name": "python3"
  },
  "language_info": {
   "codemirror_mode": {
    "name": "ipython",
    "version": 3
   },
   "file_extension": ".py",
   "mimetype": "text/x-python",
   "name": "python",
   "nbconvert_exporter": "python",
   "pygments_lexer": "ipython3",
   "version": "3.6.5"
  }
 },
 "nbformat": 4,
 "nbformat_minor": 2
}
