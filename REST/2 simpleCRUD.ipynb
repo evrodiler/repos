{
 "cells": [
  {
   "cell_type": "code",
   "execution_count": null,
   "metadata": {},
   "outputs": [],
   "source": [
    "#https://codeburst.io/this-is-how-easy-it-is-to-create-a-rest-api-8a25122ab1f3"
   ]
  },
  {
   "cell_type": "code",
   "execution_count": 1,
   "metadata": {},
   "outputs": [],
   "source": [
    "from flask import Flask\n",
    "from flask_restful import Api,Resource,reqparse"
   ]
  },
  {
   "cell_type": "code",
   "execution_count": 2,
   "metadata": {},
   "outputs": [],
   "source": [
    "app = Flask(__name__)\n",
    "api= Api(app)"
   ]
  },
  {
   "cell_type": "code",
   "execution_count": 3,
   "metadata": {},
   "outputs": [],
   "source": [
    "users =[\n",
    "    {\n",
    "        \"name\":\"Evrim\",\n",
    "        \"age\":45,\n",
    "        \"occupation\": \"Engineer\"\n",
    "    },\n",
    "    {\n",
    "        \"name\":\"Meral\",\n",
    "        \"age\":41,\n",
    "        \"occupation\": \"Officer\"\n",
    "    },\n",
    "    {\n",
    "        \"name\":\"Egemen\",\n",
    "        \"age\":14,\n",
    "        \"occupation\": \"Student\"\n",
    "    }\n",
    "]"
   ]
  },
  {
   "cell_type": "code",
   "execution_count": 4,
   "metadata": {},
   "outputs": [
    {
     "data": {
      "text/plain": [
       "[{'name': 'Evrim', 'age': 45, 'occupation': 'Engineer'},\n",
       " {'name': 'Meral', 'age': 41, 'occupation': 'Officer'},\n",
       " {'name': 'Egemen', 'age': 14, 'occupation': 'Student'}]"
      ]
     },
     "execution_count": 4,
     "metadata": {},
     "output_type": "execute_result"
    }
   ],
   "source": [
    "users"
   ]
  },
  {
   "cell_type": "code",
   "execution_count": 5,
   "metadata": {},
   "outputs": [],
   "source": [
    "class User(Resource):\n",
    "    \n",
    "    def get(self, name):\n",
    "        for user in users:\n",
    "            if(name==user[\"name\"]):\n",
    "                return user,200\n",
    "            \n",
    "        return \"user not found\",404\n",
    "    \n",
    "    #to create a new user:    \n",
    "    def post(self, name): \n",
    "        parser= reqparse.RequestParser()\n",
    "        parser.add_argument(\"age\")\n",
    "        parser.add_argument(\"occupation\")\n",
    "        args = parser.parse_args()\n",
    "        \n",
    "        for user in users:\n",
    "            if(name==user[\"name\"]):\n",
    "                return \"User with name {} already exists\".format(name),400\n",
    "\n",
    "        user = {\n",
    "            \"name\": name,\n",
    "            \"age\":args[\"age\"],\n",
    "            \"occupation\":args[\"occupation\"]            \n",
    "        }\n",
    "        users.append(user)\n",
    "        return user,201\n",
    "    \n",
    "    #to update\n",
    "    def put(self, name):\n",
    "        parser= reqparse.RequestParser()\n",
    "        parser.add_argument(\"age\")\n",
    "        parser.add_argument(\"occupation\")\n",
    "        args = parser.parse_args()\n",
    "        \n",
    "        for user in users:\n",
    "            if(name==user[\"name\"]):\n",
    "                user[\"age\"] = args[\"age\"]\n",
    "                user[\"occupation\"] = args[\"occupation\"]\n",
    "                return user,200\n",
    "\n",
    "        user = {\n",
    "            \"name\": name,\n",
    "            \"age\":args[\"age\"],\n",
    "            \"occupation\":args[\"occupation\"]            \n",
    "        }\n",
    "        users.append(user)\n",
    "        return user,201\n",
    "        \n",
    "        \n",
    "    def delete(self, name):\n",
    "        global users\n",
    "        users =[user for user in users if user[\"name\"]!=name]\n",
    "        return \"{} is deleted.\".format(name),200\n",
    "    "
   ]
  },
  {
   "cell_type": "code",
   "execution_count": 6,
   "metadata": {},
   "outputs": [],
   "source": [
    "api.add_resource(User,\"/user/<string:name>\")"
   ]
  },
  {
   "cell_type": "code",
   "execution_count": null,
   "metadata": {},
   "outputs": [
    {
     "name": "stdout",
     "output_type": "stream",
     "text": [
      " * Serving Flask app \"__main__\" (lazy loading)\n",
      " * Environment: production\n",
      "   WARNING: Do not use the development server in a production environment.\n",
      "   Use a production WSGI server instead.\n",
      " * Debug mode: off\n"
     ]
    },
    {
     "name": "stderr",
     "output_type": "stream",
     "text": [
      " * Running on http://127.0.0.1:5000/ (Press CTRL+C to quit)\n",
      "127.0.0.1 - - [25/Feb/2019 11:46:43] \"\u001b[37mGET /user/Evrim HTTP/1.1\u001b[0m\" 200 -\n",
      "127.0.0.1 - - [25/Feb/2019 11:46:49] \"\u001b[37mGET /user/Evrim HTTP/1.1\u001b[0m\" 200 -\n",
      "127.0.0.1 - - [25/Feb/2019 11:47:38] \"\u001b[37mGET /user/Evrim HTTP/1.1\u001b[0m\" 200 -\n",
      "127.0.0.1 - - [25/Feb/2019 11:49:21] \"\u001b[37mPUT /user/ego?age=21 HTTP/1.1\u001b[0m\" 201 -\n",
      "127.0.0.1 - - [25/Feb/2019 11:49:53] \"\u001b[37mGET /user/Meral HTTP/1.1\u001b[0m\" 200 -\n",
      "127.0.0.1 - - [25/Feb/2019 11:50:08] \"\u001b[37mGET /user/ego HTTP/1.1\u001b[0m\" 200 -\n",
      "127.0.0.1 - - [25/Feb/2019 11:50:14] \"\u001b[33mGET /user/ibo HTTP/1.1\u001b[0m\" 404 -\n",
      "127.0.0.1 - - [25/Feb/2019 14:15:35] \"\u001b[33mGET /user/ HTTP/1.1\u001b[0m\" 404 -\n",
      "127.0.0.1 - - [25/Feb/2019 14:15:41] \"\u001b[37mGET /user/ego HTTP/1.1\u001b[0m\" 200 -\n",
      "127.0.0.1 - - [25/Feb/2019 14:15:59] \"\u001b[37mPOST /user/egomen?age=21&occupation=Student HTTP/1.1\u001b[0m\" 201 -\n",
      "127.0.0.1 - - [25/Feb/2019 14:16:19] \"\u001b[37mGET /user/ego HTTP/1.1\u001b[0m\" 200 -\n",
      "127.0.0.1 - - [25/Feb/2019 14:16:36] \"\u001b[37mGET /user/egomen HTTP/1.1\u001b[0m\" 200 -\n"
     ]
    }
   ],
   "source": [
    "app.run(debug=False)"
   ]
  },
  {
   "cell_type": "code",
   "execution_count": null,
   "metadata": {},
   "outputs": [],
   "source": [
    "#example\n",
    "#POST http://127.0.0.1:5000/user/egomen?age=21&occupation=Student\n",
    "#GET http://127.0.0.1:5000/user/Evrim\n",
    "#PUT http://127.0.0.1:5000/user/ego?age=21\n"
   ]
  }
 ],
 "metadata": {
  "kernelspec": {
   "display_name": "Python 3",
   "language": "python",
   "name": "python3"
  },
  "language_info": {
   "codemirror_mode": {
    "name": "ipython",
    "version": 3
   },
   "file_extension": ".py",
   "mimetype": "text/x-python",
   "name": "python",
   "nbconvert_exporter": "python",
   "pygments_lexer": "ipython3",
   "version": "3.6.4"
  }
 },
 "nbformat": 4,
 "nbformat_minor": 2
}
