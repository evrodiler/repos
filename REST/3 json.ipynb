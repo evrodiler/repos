{
 "cells": [
  {
   "cell_type": "code",
   "execution_count": null,
   "metadata": {},
   "outputs": [],
   "source": [
    "#https://scotch.io/bar-talk/processing-incoming-request-data-in-flask"
   ]
  },
  {
   "cell_type": "code",
   "execution_count": 1,
   "metadata": {},
   "outputs": [],
   "source": [
    "from werkzeug.wrappers import Request, Response\n",
    "from flask import Flask,request\n",
    "\n",
    "app = Flask(__name__)"
   ]
  },
  {
   "cell_type": "code",
   "execution_count": null,
   "metadata": {},
   "outputs": [
    {
     "name": "stderr",
     "output_type": "stream",
     "text": [
      " * Running on http://localhost:9000/ (Press CTRL+C to quit)\n",
      "127.0.0.1 - - [25/Feb/2019 14:33:49] \"\u001b[1m\u001b[31mGET /query-example HTTP/1.1\u001b[0m\" 400 -\n",
      "127.0.0.1 - - [25/Feb/2019 14:34:04] \"\u001b[1m\u001b[31mGET /query-example?language=Python HTTP/1.1\u001b[0m\" 400 -\n",
      "127.0.0.1 - - [25/Feb/2019 14:36:04] \"\u001b[37mGET /query-example?language=Python&framework=Flask&website=Scotch HTTP/1.1\u001b[0m\" 200 -\n",
      "127.0.0.1 - - [25/Feb/2019 14:39:12] \"\u001b[1m\u001b[31mGET /query-example?language=Python HTTP/1.1\u001b[0m\" 400 -\n",
      "127.0.0.1 - - [25/Feb/2019 14:39:56] \"\u001b[37mGET /query-example?language=Python&framework=Flask&website=Scotch HTTP/1.1\u001b[0m\" 200 -\n",
      "127.0.0.1 - - [25/Feb/2019 14:40:37] \"\u001b[1m\u001b[31mGET /query-example?language=Python HTTP/1.1\u001b[0m\" 400 -\n",
      "127.0.0.1 - - [25/Feb/2019 14:46:17] \"\u001b[37mGET /form-example?Language=C&Framework=Flask HTTP/1.1\u001b[0m\" 200 -\n"
     ]
    }
   ],
   "source": [
    "\n",
    "#example 1\n",
    "\"\"\"\n",
    "@app.route('/query-example')\n",
    "def query_example():\n",
    "    language = request.args.get('language') #if key doesn't exist, returns None\n",
    "    return '''<h1>The language value is: {}</h1>'''.format(language)\n",
    "\"\"\"\n",
    "#example 2 \n",
    "@app.route('/query-example')\n",
    "def query_example():\n",
    "    language = request.args.get('language') #if key doesn't exist, returns None\n",
    "    framework = request.args['framework'] #if key doesn't exist, returns a 400, bad request error\n",
    "    website = request.args.get('website')\n",
    "\n",
    "    return '''<h1>The language value is: {}</h1>\n",
    "              <h1>The framework value is: {}</h1>\n",
    "              <h1>The website value is: {}'''.format(language, framework, website)\n",
    "\n",
    "#allow both GET and POST requests\n",
    "@app.route('/form-example', methods=['GET', 'POST']) \n",
    "def form_example():\n",
    "    #this block is only entered when the form is submitted\n",
    "    if request.method == 'POST':  \n",
    "        language = request.form.get('language')\n",
    "        framework = request.form['framework']\n",
    "\n",
    "        return '''<h1>The language value is: {}</h1>\n",
    "                  <h1>The framework value is: {}</h1>'''.format(language, framework)\n",
    "\n",
    "    return '''<form method=\"POST\">\n",
    "                  Language: <input type=\"text\" name=\"language\"><br>\n",
    "                  Framework: <input type=\"text\" name=\"framework\"><br>\n",
    "                  <input type=\"submit\" value=\"Submit\"><br>\n",
    "              </form>'''\n",
    "\n",
    "@app.route('/json-example', methods=['POST']) #GET requests will be blocked\n",
    "def json_example():\n",
    "    req_data = request.get_json()\n",
    "\n",
    "    language = req_data['language']\n",
    "    framework = req_data['framework']\n",
    "    python_version = req_data['version_info']['python'] #two keys are needed because of the nested object\n",
    "    example = req_data['examples'][0] #an index is needed because of the array\n",
    "    boolean_test = req_data['boolean_test']\n",
    "\n",
    "    return '''\n",
    "           The language value is: {}\n",
    "           The framework value is: {}\n",
    "           The Python version is: {}\n",
    "           The item at index 0 in the example list is: {}\n",
    "           The boolean value is: {}'''.format(language, framework, python_version, example, boolean_test)\n",
    "\n",
    "if __name__ == '__main__':\n",
    "    from werkzeug.serving import run_simple\n",
    "    run_simple('localhost', 9000, app)"
   ]
  },
  {
   "cell_type": "code",
   "execution_count": null,
   "metadata": {},
   "outputs": [],
   "source": [
    "#example 1 outputs\n",
    "#-------------------\n",
    "#http://localhost:9000/query-example\n",
    "    # => returns default none\n",
    "#http://localhost:9000/query-example?language=Python\n",
    "    # output:The language value is: Python\n",
    "######################################################\n",
    "\n",
    "#ex2 input:\n",
    "#http://localhost:9000/query-example?language=Python&framework=Flask&website=Scotch    \n",
    "#example 2 outputs\n",
    "#-----------------\n",
    "#The language value is: Python\n",
    "#The framework value is: Flask\n",
    "#The website value is: Scotch\n",
    "\n"
   ]
  },
  {
   "cell_type": "code",
   "execution_count": null,
   "metadata": {},
   "outputs": [],
   "source": [
    "#GET localhost:9000/form-example?Language=C&Framework=Flask\n"
   ]
  },
  {
   "cell_type": "code",
   "execution_count": null,
   "metadata": {},
   "outputs": [],
   "source": [
    "#POST localhost:9000/json-example\n",
    "#In Postman, add the URL and change the type to POST. On the body tab, change to raw \n",
    "# and select JSON (application/json) from the drop down\n"
   ]
  }
 ],
 "metadata": {
  "kernelspec": {
   "display_name": "Python 3",
   "language": "python",
   "name": "python3"
  },
  "language_info": {
   "codemirror_mode": {
    "name": "ipython",
    "version": 3
   },
   "file_extension": ".py",
   "mimetype": "text/x-python",
   "name": "python",
   "nbconvert_exporter": "python",
   "pygments_lexer": "ipython3",
   "version": "3.6.4"
  }
 },
 "nbformat": 4,
 "nbformat_minor": 2
}
