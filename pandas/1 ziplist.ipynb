{
 "cells": [
  {
   "cell_type": "code",
   "execution_count": 13,
   "metadata": {},
   "outputs": [],
   "source": [
    "#https://campus.datacamp.com/courses/pandas-foundations/data-ingestion-inspection?ex=6\n",
    "import pandas as pd"
   ]
  },
  {
   "cell_type": "code",
   "execution_count": 7,
   "metadata": {},
   "outputs": [],
   "source": [
    "list_keys = ['Country','Total']"
   ]
  },
  {
   "cell_type": "code",
   "execution_count": 8,
   "metadata": {},
   "outputs": [],
   "source": [
    "list_values= [['United States', 'Soviet Union', 'United Kingdom'], [1118, 473, 273]]"
   ]
  },
  {
   "cell_type": "code",
   "execution_count": 9,
   "metadata": {},
   "outputs": [
    {
     "data": {
      "text/plain": [
       "(['Country', 'Total'],\n",
       " [['United States', 'Soviet Union', 'United Kingdom'], [1118, 473, 273]])"
      ]
     },
     "execution_count": 9,
     "metadata": {},
     "output_type": "execute_result"
    }
   ],
   "source": [
    "list_keys, list_values"
   ]
  },
  {
   "cell_type": "code",
   "execution_count": 10,
   "metadata": {},
   "outputs": [
    {
     "name": "stdout",
     "output_type": "stream",
     "text": [
      "[('Country', ['United States', 'Soviet Union', 'United Kingdom']), ('Total', [1118, 473, 273])]\n"
     ]
    }
   ],
   "source": [
    "zipped = list(zip(list_keys,list_values))\n",
    "print(zipped)"
   ]
  },
  {
   "cell_type": "code",
   "execution_count": 11,
   "metadata": {},
   "outputs": [
    {
     "name": "stdout",
     "output_type": "stream",
     "text": [
      "{'Country': ['United States', 'Soviet Union', 'United Kingdom'], 'Total': [1118, 473, 273]}\n"
     ]
    }
   ],
   "source": [
    "data = dict(zipped)\n",
    "print(data)"
   ]
  },
  {
   "cell_type": "code",
   "execution_count": 12,
   "metadata": {},
   "outputs": [
    {
     "name": "stdout",
     "output_type": "stream",
     "text": [
      "          Country  Total\n",
      "0   United States   1118\n",
      "1    Soviet Union    473\n",
      "2  United Kingdom    273\n"
     ]
    }
   ],
   "source": [
    "df = pd.DataFrame(data)\n",
    "print(df)"
   ]
  },
  {
   "cell_type": "markdown",
   "metadata": {},
   "source": [
    "Labeling your data\n",
    "\n",
    "df.columns to view and assign new string labels to columns in a pandas DataFrame.\n"
   ]
  },
  {
   "cell_type": "code",
   "execution_count": 15,
   "metadata": {},
   "outputs": [],
   "source": [
    "list_columns=['a','b','c','d']\n",
    "list_data=[['1980','Blondie','Call Me',6],['1981','Cross','Arthur',3]]"
   ]
  },
  {
   "cell_type": "code",
   "execution_count": 18,
   "metadata": {},
   "outputs": [
    {
     "name": "stdout",
     "output_type": "stream",
     "text": [
      "      a        b        c  d\n",
      "0  1980  Blondie  Call Me  6\n",
      "1  1981    Cross   Arthur  3\n"
     ]
    }
   ],
   "source": [
    "df2 = pd.DataFrame(list_data)\n",
    "\n",
    "df2.columns=['a','b','c','d']\n",
    "print(df2)"
   ]
  },
  {
   "cell_type": "code",
   "execution_count": 19,
   "metadata": {},
   "outputs": [
    {
     "name": "stdout",
     "output_type": "stream",
     "text": [
      "   year   artist     song  chart weeks\n",
      "0  1980  Blondie  Call Me            6\n",
      "1  1981    Cross   Arthur            3\n"
     ]
    }
   ],
   "source": [
    "list_labels = ['year', 'artist', 'song', 'chart weeks']\n",
    "\n",
    "# Assign the list of labels to the columns attribute: df.columns\n",
    "df2.columns = list_labels\n",
    "print(df2)"
   ]
  },
  {
   "cell_type": "markdown",
   "metadata": {},
   "source": [
    "Building DataFrames with broadcasting"
   ]
  },
  {
   "cell_type": "code",
   "execution_count": 20,
   "metadata": {},
   "outputs": [],
   "source": [
    "import numpy as np"
   ]
  },
  {
   "cell_type": "code",
   "execution_count": 21,
   "metadata": {},
   "outputs": [],
   "source": [
    "list_city=[['Manheim',\n",
    " 'Preston park',\n",
    " 'Biglerville',\n",
    " 'Indiana',\n",
    " 'Curwensville',\n",
    " 'Crown',\n",
    " 'Harveys lake',\n",
    " 'Mineral springs',\n",
    " 'Cassville',\n",
    " 'Hannastown',\n",
    " 'Saltsburg',\n",
    " 'Tunkhannock',\n",
    " 'Pittsburgh',\n",
    " 'Lemasters',\n",
    " 'Great bend']\n",
    "]"
   ]
  },
  {
   "cell_type": "code",
   "execution_count": 22,
   "metadata": {},
   "outputs": [
    {
     "data": {
      "text/plain": [
       "[['Manheim',\n",
       "  'Preston park',\n",
       "  'Biglerville',\n",
       "  'Indiana',\n",
       "  'Curwensville',\n",
       "  'Crown',\n",
       "  'Harveys lake',\n",
       "  'Mineral springs',\n",
       "  'Cassville',\n",
       "  'Hannastown',\n",
       "  'Saltsburg',\n",
       "  'Tunkhannock',\n",
       "  'Pittsburgh',\n",
       "  'Lemasters',\n",
       "  'Great bend']]"
      ]
     },
     "execution_count": 22,
     "metadata": {},
     "output_type": "execute_result"
    }
   ],
   "source": [
    "list_city"
   ]
  },
  {
   "cell_type": "code",
   "execution_count": null,
   "metadata": {},
   "outputs": [],
   "source": []
  }
 ],
 "metadata": {
  "kernelspec": {
   "display_name": "Python 3",
   "language": "python",
   "name": "python3"
  },
  "language_info": {
   "codemirror_mode": {
    "name": "ipython",
    "version": 3
   },
   "file_extension": ".py",
   "mimetype": "text/x-python",
   "name": "python",
   "nbconvert_exporter": "python",
   "pygments_lexer": "ipython3",
   "version": "3.6.4"
  }
 },
 "nbformat": 4,
 "nbformat_minor": 2
}
